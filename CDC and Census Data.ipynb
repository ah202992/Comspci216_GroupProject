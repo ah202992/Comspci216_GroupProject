{
 "cells": [
  {
   "cell_type": "code",
   "execution_count": 56,
   "id": "9d4648a5",
   "metadata": {},
   "outputs": [
    {
     "name": "stdout",
     "output_type": "stream",
     "text": [
      "<class 'pandas.core.frame.DataFrame'>\n",
      "RangeIndex: 3282 entries, 0 to 3281\n",
      "Data columns (total 35 columns):\n",
      " #   Column                                   Non-Null Count  Dtype \n",
      "---  ------                                   --------------  ----- \n",
      " 0   date                                     3282 non-null   object\n",
      " 1   fips                                     3282 non-null   object\n",
      " 2   mmwr_week                                3282 non-null   object\n",
      " 3   recip_county                             3282 non-null   object\n",
      " 4   recip_state                              3282 non-null   object\n",
      " 5   completeness_pct                         3277 non-null   object\n",
      " 6   administered_dose1_recip                 3016 non-null   object\n",
      " 7   administered_dose1_pop_pct               3274 non-null   object\n",
      " 8   administered_dose1_recip_12plus          2859 non-null   object\n",
      " 9   administered_dose1_recip_12pluspop_pct   3229 non-null   object\n",
      " 10  administered_dose1_recip_18plus          2903 non-null   object\n",
      " 11  administered_dose1_recip_18pluspop_pct   3274 non-null   object\n",
      " 12  administered_dose1_recip_65plus          2903 non-null   object\n",
      " 13  administered_dose1_recip_65pluspop_pct   3274 non-null   object\n",
      " 14  series_complete_yes                      3274 non-null   object\n",
      " 15  series_complete_pop_pct                  3274 non-null   object\n",
      " 16  series_complete_12plus                   3229 non-null   object\n",
      " 17  series_complete_12pluspop_pct            3229 non-null   object\n",
      " 18  series_complete_18plus                   3274 non-null   object\n",
      " 19  series_complete_18pluspop_pct            3274 non-null   object\n",
      " 20  series_complete_65plus                   3274 non-null   object\n",
      " 21  series_complete_65pluspop_pct            3274 non-null   object\n",
      " 22  svi_ctgy                                 3219 non-null   object\n",
      " 23  series_complete_pop_pct_svi              2942 non-null   object\n",
      " 24  series_complete_12pluspop_pct_svi        2897 non-null   object\n",
      " 25  series_complete_18pluspop_pct_svi        2942 non-null   object\n",
      " 26  series_complete_65pluspop_pct_svi        2942 non-null   object\n",
      " 27  metro_status                             3219 non-null   object\n",
      " 28  series_complete_pop_pct_ur_equity        2942 non-null   object\n",
      " 29  series_complete_12pluspop_pct_ur_equity  2897 non-null   object\n",
      " 30  series_complete_18pluspop_pct_ur_equity  2942 non-null   object\n",
      " 31  series_complete_65pluspop_pct_ur_equity  2942 non-null   object\n",
      " 32  census2019                               3221 non-null   object\n",
      " 33  census2019_12pluspop                     3220 non-null   object\n",
      " 34  census2019_18pluspop                     3221 non-null   object\n",
      "dtypes: object(35)\n",
      "memory usage: 897.5+ KB\n",
      "None\n"
     ]
    }
   ],
   "source": [
    "import requests\n",
    "import pandas as pd\n",
    "\n",
    "#Import CDC Vaccine Coverage data and turn into dataframe. We are acessing using the data using the CDC API. We are filtering for the \n",
    "#date one month after the covid vaccine was made avaliable and one year after the vaccine was made avaliable\n",
    "\n",
    "def fetch_data(date, offset):\n",
    "    api_url = f'https://data.cdc.gov/resource/8xkx-amqh.json?date={date}&$offset={offset}'\n",
    "    response = requests.get(api_url)\n",
    "    \n",
    "    if response.status_code == 200:\n",
    "        data = response.json()\n",
    "        return pd.DataFrame(data)\n",
    "    else:\n",
    "        print(f\"Failed to fetch data for {date}. Status code: {response.status_code}\")\n",
    "        return None\n",
    "\n",
    "# Example dates (adjust as needed)\n",
    "dates = [\n",
    "    '2021-07-01',\n",
    "    '2022-07-01',\n",
    "    # Add more dates as needed\n",
    "]\n",
    "\n",
    "# Example offset increment (adjust as needed)\n",
    "offset_increment = 1000\n",
    "\n",
    "# Fetch data for each date\n",
    "dfs = []\n",
    "for date in dates:\n",
    "    offset = 0\n",
    "    while True:\n",
    "        df = fetch_data(date, offset)\n",
    "        if df is not None:\n",
    "            dfs.append(df)\n",
    "            offset += offset_increment\n",
    "            if len(df) < offset_increment:\n",
    "                break\n",
    "        else:\n",
    "            break\n",
    "\n",
    "# Concatenate dataframes\n",
    "combined_df = pd.concat(dfs, ignore_index=True)\n",
    "\n",
    "# Now you have your combined data in a single DataFrame\n",
    "print(combined_df.info())"
   ]
  },
  {
   "cell_type": "code",
   "execution_count": 42,
   "id": "b2621869",
   "metadata": {},
   "outputs": [
    {
     "name": "stdout",
     "output_type": "stream",
     "text": [
      "['COUNTY', 'SAEMHI_PT', 'YEAR', 'NAME', 'GEOCAT', 'YEAR', 'state']\n",
      "['000', '53958', '2020', 'Alabama', '040', '2020', '01']\n",
      "['000', '79961', '2020', 'Alaska', '040', '2020', '02']\n",
      "['000', '64652', '2020', 'Arizona', '040', '2020', '04']\n",
      "['000', '51146', '2020', 'Arkansas', '040', '2020', '05']\n",
      "['000', '83001', '2020', 'California', '040', '2020', '06']\n",
      "['000', '77688', '2020', 'Colorado', '040', '2020', '08']\n",
      "['000', '79723', '2020', 'Connecticut', '040', '2020', '09']\n",
      "['000', '71335', '2020', 'Delaware', '040', '2020', '10']\n",
      "['000', '91957', '2020', 'District of Columbia', '040', '2020', '11']\n"
     ]
    }
   ],
   "source": []
  },
  {
   "cell_type": "code",
   "execution_count": null,
   "id": "3e8cad4d",
   "metadata": {},
   "outputs": [],
   "source": []
  },
  {
   "cell_type": "code",
   "execution_count": null,
   "id": "61fc82e0",
   "metadata": {},
   "outputs": [],
   "source": []
  }
 ],
 "metadata": {
  "kernelspec": {
   "display_name": "Python 3 (ipykernel)",
   "language": "python",
   "name": "python3"
  },
  "language_info": {
   "codemirror_mode": {
    "name": "ipython",
    "version": 3
   },
   "file_extension": ".py",
   "mimetype": "text/x-python",
   "name": "python",
   "nbconvert_exporter": "python",
   "pygments_lexer": "ipython3",
   "version": "3.10.9"
  }
 },
 "nbformat": 4,
 "nbformat_minor": 5
}
